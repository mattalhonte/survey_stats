{
 "cells": [
  {
   "cell_type": "code",
   "execution_count": 39,
   "metadata": {},
   "outputs": [
    {
     "name": "stdout",
     "output_type": "stream",
     "text": [
      "The autoreload extension is already loaded. To reload it, use:\n",
      "  %reload_ext autoreload\n"
     ]
    }
   ],
   "source": [
    "%load_ext autoreload\n",
    "%autoreload 2\n",
    "\n",
    "from src.data import survey_stats\n",
    "\n",
    "import pathlib\n",
    "from pathlib import Path\n",
    "import pandas as pd\n",
    "import numpy as np\n",
    "import matplotlib.pyplot as plt\n",
    "%matplotlib inline\n",
    "pd.set_option('display.float_format', '{:.4f}'.format)"
   ]
  },
  {
   "cell_type": "markdown",
   "metadata": {},
   "source": [
    "# Importing Question Texts from the Beck Anxiety Inventory\n",
    "\n",
    "We add question texts.  These are all ratings from 1 to 5, so we don't include responses."
   ]
  },
  {
   "cell_type": "code",
   "execution_count": 2,
   "metadata": {},
   "outputs": [],
   "source": [
    "BAI_txts = [\n",
    "    \"Numbness or tingling\",\n",
    "    \"Feeling hot\",\n",
    "    \"Wobbliness in legs\",\n",
    "    \"Unable to relax\",\n",
    "    \"Fear of worst happening\",\n",
    "    \"Dizzy or lightheaded\",\n",
    "    \"Heart pounding / racing\",\n",
    "    \"Unsteady\",\n",
    "    \"Terrified or afraid\",\n",
    "    \"Nervous\",\n",
    "    \"Feeling of choking\",\n",
    "    \"Hands trembling\",\n",
    "    \"Shaky / unsteady\",\n",
    "    \"Fear of losing control\",\n",
    "    \"Difficulty in breathing\",\n",
    "    \"Fear of dying\",\n",
    "    \"Scared\",\n",
    "    \"Indigestion\",\n",
    "    \"Faint / lightheaded\",\n",
    "    \"Face flushed\",\n",
    "    \"Hot / cold sweats\",\n",
    "]\n",
    "\n",
    "BAI_txts = [(f\"BAI_{n}\", question, []) for n, question in enumerate(BAI_txts)]"
   ]
  },
  {
   "cell_type": "markdown",
   "metadata": {},
   "source": [
    "The browser question has pre-set categories, so we'll include those"
   ]
  },
  {
   "cell_type": "code",
   "execution_count": 17,
   "metadata": {},
   "outputs": [],
   "source": [
    "cat = [\n",
    "    (\n",
    "        \"Browser_used\",\n",
    "        \"What browser do you use most often?\",\n",
    "        [\"Chrome\", \"Firefox\", \"Opera\", \"Microsoft Edge\"],\n",
    "    ),\n",
    "    (\"cake_or_pie\", \"Do you prefer cake or pie as a dessert?\", [\"Pie\", \"Cake\",],),\n",
    "]\n",
    "\n",
    "all_qs = cat + BAI_txts"
   ]
  },
  {
   "cell_type": "code",
   "execution_count": 18,
   "metadata": {},
   "outputs": [
    {
     "data": {
      "text/plain": [
       "[('Browser_used',\n",
       "  'What browser do you use most often?',\n",
       "  ['Chrome', 'Firefox', 'Opera', 'Microsoft Edge']),\n",
       " ('cake_or_pie', 'Do you prefer cake or pie as a dessert?', ['Pie', 'Cake']),\n",
       " ('BAI_0', 'Numbness or tingling', []),\n",
       " ('BAI_1', 'Feeling hot', []),\n",
       " ('BAI_2', 'Wobbliness in legs', []),\n",
       " ('BAI_3', 'Unable to relax', []),\n",
       " ('BAI_4', 'Fear of worst happening', []),\n",
       " ('BAI_5', 'Dizzy or lightheaded', []),\n",
       " ('BAI_6', 'Heart pounding / racing', []),\n",
       " ('BAI_7', 'Unsteady', []),\n",
       " ('BAI_8', 'Terrified or afraid', []),\n",
       " ('BAI_9', 'Nervous', []),\n",
       " ('BAI_10', 'Feeling of choking', []),\n",
       " ('BAI_11', 'Hands trembling', []),\n",
       " ('BAI_12', 'Shaky / unsteady', []),\n",
       " ('BAI_13', 'Fear of losing control', []),\n",
       " ('BAI_14', 'Difficulty in breathing', []),\n",
       " ('BAI_15', 'Fear of dying', []),\n",
       " ('BAI_16', 'Scared', []),\n",
       " ('BAI_17', 'Indigestion', []),\n",
       " ('BAI_18', 'Faint / lightheaded', []),\n",
       " ('BAI_19', 'Face flushed', []),\n",
       " ('BAI_20', 'Hot / cold sweats', [])]"
      ]
     },
     "execution_count": 18,
     "metadata": {},
     "output_type": "execute_result"
    }
   ],
   "source": [
    "all_qs"
   ]
  },
  {
   "cell_type": "code",
   "execution_count": 19,
   "metadata": {},
   "outputs": [
    {
     "data": {
      "text/html": [
       "<div>\n",
       "<style scoped>\n",
       "    .dataframe tbody tr th:only-of-type {\n",
       "        vertical-align: middle;\n",
       "    }\n",
       "\n",
       "    .dataframe tbody tr th {\n",
       "        vertical-align: top;\n",
       "    }\n",
       "\n",
       "    .dataframe thead th {\n",
       "        text-align: right;\n",
       "    }\n",
       "</style>\n",
       "<table border=\"1\" class=\"dataframe\">\n",
       "  <thead>\n",
       "    <tr style=\"text-align: right;\">\n",
       "      <th></th>\n",
       "      <th>name</th>\n",
       "      <th>text</th>\n",
       "      <th>response_vals</th>\n",
       "    </tr>\n",
       "  </thead>\n",
       "  <tbody>\n",
       "    <tr>\n",
       "      <th>0</th>\n",
       "      <td>Browser_used</td>\n",
       "      <td>What browser do you use most often?</td>\n",
       "      <td>[Chrome, Firefox, Opera, Microsoft Edge]</td>\n",
       "    </tr>\n",
       "    <tr>\n",
       "      <th>1</th>\n",
       "      <td>cake_or_pie</td>\n",
       "      <td>Do you prefer cake or pie as a dessert?</td>\n",
       "      <td>[Pie, Cake]</td>\n",
       "    </tr>\n",
       "    <tr>\n",
       "      <th>2</th>\n",
       "      <td>BAI_0</td>\n",
       "      <td>Numbness or tingling</td>\n",
       "      <td>[]</td>\n",
       "    </tr>\n",
       "    <tr>\n",
       "      <th>3</th>\n",
       "      <td>BAI_1</td>\n",
       "      <td>Feeling hot</td>\n",
       "      <td>[]</td>\n",
       "    </tr>\n",
       "    <tr>\n",
       "      <th>4</th>\n",
       "      <td>BAI_2</td>\n",
       "      <td>Wobbliness in legs</td>\n",
       "      <td>[]</td>\n",
       "    </tr>\n",
       "    <tr>\n",
       "      <th>5</th>\n",
       "      <td>BAI_3</td>\n",
       "      <td>Unable to relax</td>\n",
       "      <td>[]</td>\n",
       "    </tr>\n",
       "    <tr>\n",
       "      <th>6</th>\n",
       "      <td>BAI_4</td>\n",
       "      <td>Fear of worst happening</td>\n",
       "      <td>[]</td>\n",
       "    </tr>\n",
       "    <tr>\n",
       "      <th>7</th>\n",
       "      <td>BAI_5</td>\n",
       "      <td>Dizzy or lightheaded</td>\n",
       "      <td>[]</td>\n",
       "    </tr>\n",
       "    <tr>\n",
       "      <th>8</th>\n",
       "      <td>BAI_6</td>\n",
       "      <td>Heart pounding / racing</td>\n",
       "      <td>[]</td>\n",
       "    </tr>\n",
       "    <tr>\n",
       "      <th>9</th>\n",
       "      <td>BAI_7</td>\n",
       "      <td>Unsteady</td>\n",
       "      <td>[]</td>\n",
       "    </tr>\n",
       "    <tr>\n",
       "      <th>10</th>\n",
       "      <td>BAI_8</td>\n",
       "      <td>Terrified or afraid</td>\n",
       "      <td>[]</td>\n",
       "    </tr>\n",
       "    <tr>\n",
       "      <th>11</th>\n",
       "      <td>BAI_9</td>\n",
       "      <td>Nervous</td>\n",
       "      <td>[]</td>\n",
       "    </tr>\n",
       "    <tr>\n",
       "      <th>12</th>\n",
       "      <td>BAI_10</td>\n",
       "      <td>Feeling of choking</td>\n",
       "      <td>[]</td>\n",
       "    </tr>\n",
       "    <tr>\n",
       "      <th>13</th>\n",
       "      <td>BAI_11</td>\n",
       "      <td>Hands trembling</td>\n",
       "      <td>[]</td>\n",
       "    </tr>\n",
       "    <tr>\n",
       "      <th>14</th>\n",
       "      <td>BAI_12</td>\n",
       "      <td>Shaky / unsteady</td>\n",
       "      <td>[]</td>\n",
       "    </tr>\n",
       "    <tr>\n",
       "      <th>15</th>\n",
       "      <td>BAI_13</td>\n",
       "      <td>Fear of losing control</td>\n",
       "      <td>[]</td>\n",
       "    </tr>\n",
       "    <tr>\n",
       "      <th>16</th>\n",
       "      <td>BAI_14</td>\n",
       "      <td>Difficulty in breathing</td>\n",
       "      <td>[]</td>\n",
       "    </tr>\n",
       "    <tr>\n",
       "      <th>17</th>\n",
       "      <td>BAI_15</td>\n",
       "      <td>Fear of dying</td>\n",
       "      <td>[]</td>\n",
       "    </tr>\n",
       "    <tr>\n",
       "      <th>18</th>\n",
       "      <td>BAI_16</td>\n",
       "      <td>Scared</td>\n",
       "      <td>[]</td>\n",
       "    </tr>\n",
       "    <tr>\n",
       "      <th>19</th>\n",
       "      <td>BAI_17</td>\n",
       "      <td>Indigestion</td>\n",
       "      <td>[]</td>\n",
       "    </tr>\n",
       "    <tr>\n",
       "      <th>20</th>\n",
       "      <td>BAI_18</td>\n",
       "      <td>Faint / lightheaded</td>\n",
       "      <td>[]</td>\n",
       "    </tr>\n",
       "    <tr>\n",
       "      <th>21</th>\n",
       "      <td>BAI_19</td>\n",
       "      <td>Face flushed</td>\n",
       "      <td>[]</td>\n",
       "    </tr>\n",
       "    <tr>\n",
       "      <th>22</th>\n",
       "      <td>BAI_20</td>\n",
       "      <td>Hot / cold sweats</td>\n",
       "      <td>[]</td>\n",
       "    </tr>\n",
       "  </tbody>\n",
       "</table>\n",
       "</div>"
      ],
      "text/plain": [
       "            name                                     text  \\\n",
       "0   Browser_used      What browser do you use most often?   \n",
       "1    cake_or_pie  Do you prefer cake or pie as a dessert?   \n",
       "2          BAI_0                     Numbness or tingling   \n",
       "3          BAI_1                              Feeling hot   \n",
       "4          BAI_2                       Wobbliness in legs   \n",
       "5          BAI_3                          Unable to relax   \n",
       "6          BAI_4                  Fear of worst happening   \n",
       "7          BAI_5                     Dizzy or lightheaded   \n",
       "8          BAI_6                  Heart pounding / racing   \n",
       "9          BAI_7                                 Unsteady   \n",
       "10         BAI_8                      Terrified or afraid   \n",
       "11         BAI_9                                  Nervous   \n",
       "12        BAI_10                       Feeling of choking   \n",
       "13        BAI_11                          Hands trembling   \n",
       "14        BAI_12                         Shaky / unsteady   \n",
       "15        BAI_13                   Fear of losing control   \n",
       "16        BAI_14                  Difficulty in breathing   \n",
       "17        BAI_15                            Fear of dying   \n",
       "18        BAI_16                                   Scared   \n",
       "19        BAI_17                              Indigestion   \n",
       "20        BAI_18                      Faint / lightheaded   \n",
       "21        BAI_19                             Face flushed   \n",
       "22        BAI_20                        Hot / cold sweats   \n",
       "\n",
       "                               response_vals  \n",
       "0   [Chrome, Firefox, Opera, Microsoft Edge]  \n",
       "1                                [Pie, Cake]  \n",
       "2                                         []  \n",
       "3                                         []  \n",
       "4                                         []  \n",
       "5                                         []  \n",
       "6                                         []  \n",
       "7                                         []  \n",
       "8                                         []  \n",
       "9                                         []  \n",
       "10                                        []  \n",
       "11                                        []  \n",
       "12                                        []  \n",
       "13                                        []  \n",
       "14                                        []  \n",
       "15                                        []  \n",
       "16                                        []  \n",
       "17                                        []  \n",
       "18                                        []  \n",
       "19                                        []  \n",
       "20                                        []  \n",
       "21                                        []  \n",
       "22                                        []  "
      ]
     },
     "execution_count": 19,
     "metadata": {},
     "output_type": "execute_result"
    }
   ],
   "source": [
    "pd.DataFrame(all_qs, columns=[\"name\", \"text\", \"response_vals\"])"
   ]
  },
  {
   "cell_type": "code",
   "execution_count": 36,
   "metadata": {},
   "outputs": [],
   "source": [
    "survey_stats.add_new_texts(\n",
    "    \"../data/processed/BAI_and_browser_survey_text.json\", all_qs\n",
    ")"
   ]
  },
  {
   "cell_type": "code",
   "execution_count": 21,
   "metadata": {},
   "outputs": [],
   "source": [
    "tot_var = [\n",
    "    (\n",
    "        \"BAI_tot\",\n",
    "        \"Beck Anxiety Inventory (BAI).  Below is a list of common symptoms of anxiety. Please carefully read each item in the list. Indicate how much you have been bothered by that symptom during the past month, including today, by circling the number in the corresponding space in the column next to each symptom.\",\n",
    "        [],\n",
    "    ),\n",
    "]"
   ]
  },
  {
   "cell_type": "code",
   "execution_count": 20,
   "metadata": {},
   "outputs": [],
   "source": [
    "survey_stats.add_new_texts(\n",
    "    \"../data/processed/BAI_and_browser_survey_text.json\", tot_var\n",
    ")"
   ]
  },
  {
   "cell_type": "code",
   "execution_count": null,
   "metadata": {},
   "outputs": [],
   "source": []
  },
  {
   "cell_type": "code",
   "execution_count": 41,
   "metadata": {},
   "outputs": [],
   "source": [
    "cat_fake_data = [(\"Browser_used\", np.random.randint(0, 3, size=100))]\n",
    "\n",
    "bai_fake_data = [(tup[0], np.random.randint(0, 4, size=100)) for tup in BAI_txts]\n",
    "\n",
    "fake_data = pd.DataFrame(dict(cat_fake_data + bai_fake_data)).assign(\n",
    "    BAI_tot=lambda x: x.filter(like=\"BAI\").sum(axis=1),\n",
    ")"
   ]
  },
  {
   "cell_type": "code",
   "execution_count": 42,
   "metadata": {},
   "outputs": [
    {
     "data": {
      "text/plain": [
       "count   100.0000\n",
       "mean     30.4600\n",
       "std       5.5093\n",
       "min      19.0000\n",
       "25%      27.0000\n",
       "50%      31.0000\n",
       "75%      34.2500\n",
       "max      41.0000\n",
       "Name: BAI_tot, dtype: float64"
      ]
     },
     "execution_count": 42,
     "metadata": {},
     "output_type": "execute_result"
    }
   ],
   "source": [
    "fake_data.BAI_tot.describe()"
   ]
  },
  {
   "cell_type": "code",
   "execution_count": 43,
   "metadata": {},
   "outputs": [],
   "source": [
    "fake_data[\"cake_or_pie\"] = np.where(fake_data[\"BAI_tot\"] < 31, \"Pie\", \"Cake\")"
   ]
  },
  {
   "cell_type": "code",
   "execution_count": 44,
   "metadata": {},
   "outputs": [],
   "source": [
    "fake_data.to_csv('../data/raw/BAI_and_browsers.csv')"
   ]
  },
  {
   "cell_type": "code",
   "execution_count": null,
   "metadata": {},
   "outputs": [],
   "source": []
  }
 ],
 "metadata": {
  "kernelspec": {
   "display_name": "Python [conda env:survey_stats]",
   "language": "python",
   "name": "conda-env-survey_stats-py"
  },
  "language_info": {
   "codemirror_mode": {
    "name": "ipython",
    "version": 3
   },
   "file_extension": ".py",
   "mimetype": "text/x-python",
   "name": "python",
   "nbconvert_exporter": "python",
   "pygments_lexer": "ipython3",
   "version": "3.8.2"
  }
 },
 "nbformat": 4,
 "nbformat_minor": 4
}
